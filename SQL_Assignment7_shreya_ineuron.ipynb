{
 "cells": [
  {
   "cell_type": "markdown",
   "id": "1bdaeaa3",
   "metadata": {},
   "source": [
    "**Q1. Write an SQL query to show only odd rows from a table.**"
   ]
  },
  {
   "cell_type": "markdown",
   "id": "c9b85fd6",
   "metadata": {},
   "source": [
    "Select * from table_name where MOD(row_number,2) = 1;"
   ]
  },
  {
   "cell_type": "markdown",
   "id": "a140feb5",
   "metadata": {},
   "source": [
    "**Q2. Write an SQL query to clone a new table from another table.**"
   ]
  },
  {
   "cell_type": "markdown",
   "id": "733d81e9",
   "metadata": {},
   "source": [
    "It can be done by three ways:\n",
    "1) Simple Cloning - Create Table new_table select * from original table; <br>\n",
    "2) Shallow Cloning - Create table new_table like original table; <br>\n",
    "3) Deep Cloning - Create table new_table like original table; <br>\n",
    "                 Insert into new_table select * from original_table <br>\n"
   ]
  }
 ],
 "metadata": {
  "kernelspec": {
   "display_name": "Python 3 (ipykernel)",
   "language": "python",
   "name": "python3"
  },
  "language_info": {
   "codemirror_mode": {
    "name": "ipython",
    "version": 3
   },
   "file_extension": ".py",
   "mimetype": "text/x-python",
   "name": "python",
   "nbconvert_exporter": "python",
   "pygments_lexer": "ipython3",
   "version": "3.9.7"
  }
 },
 "nbformat": 4,
 "nbformat_minor": 5
}
